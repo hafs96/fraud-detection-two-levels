{
 "cells": [
  {
   "cell_type": "markdown",
   "metadata": {},
   "source": [
    "<center>\n",
    "<a href=\"\" ><img src=\"./logo.png\" style=\"float:left; max-width: 200px; height: 145px; \"/></a> \n",
    "</center>\n",
    "<div id=\"report\" style=\"text-align: center; padding: 10px; background-color:rgb(17, 16, 16); border-radius: 10px; box-shadow: 0 4px 8px rgba(0, 0, 0, 0.1); \">\n",
    "  <h1 style=\"font-size: 2.2em; font-family: 'Georgia', serif; color:rgb(247, 239, 248); margin-bottom: 10px;\">\n",
    "    Détection de Fraude par une Méthode à Deux Niveaux \n",
    "  </h1>\n",
    "  <p style=\"font-size: 1.1em; font-family: 'Arial', sans-serif; color:rgb(227, 231, 235); margin: 5px 0;\">\n",
    "    Élaboré par :  \n",
    "  </p>\n",
    "  <div style=\"display: grid; grid-template-columns: repeat(2, 1fr); gap: 5px; justify-items: center; margin-bottom: 10px;\">\n",
    "  <p style=\"font-size: 1.1em; font-family: 'Arial', sans-serif; color:rgb(225, 233, 241); font-weight: bold;\">\n",
    "      &#9733; ZIAN Hafsa\n",
    "    </p>\n",
    "    <p style=\"font-size: 1.1em; font-family: 'Arial', sans-serif; color:rgb(225, 233, 241); font-weight: bold;\">\n",
    "      &#9733; HAYHAY Yasmine\n",
    "    </p>\n",
    "  </div>\n",
    "  <div style=\"margin-top: 15px; padding: 5px; background-color: #ecf0f1; border-left: 4px solid rgb(127, 50, 129); border-radius: 8px; display: inline-block; max-width: 60%;\">\n",
    "    <p style=\"font-size: 1.1em; font-family: 'Arial', sans-serif; color:rgb(16, 17, 17); margin: 0; font-style: italic;\">\n",
    "      Supervisé par : \n",
    "      <span style=\"font-weight: bold; color:rgb(129, 27, 116);\">Pr. ELHARCHILI Fidae</span>\n",
    "    </p>\n",
    "  </div>\n",
    "</div> "
   ]
  },
  {
   "cell_type": "markdown",
   "metadata": {},
   "source": [
    "## Setup du projet"
   ]
  },
  {
   "cell_type": "code",
   "execution_count": 1,
   "metadata": {},
   "outputs": [
    {
     "ename": "KeyboardInterrupt",
     "evalue": "",
     "output_type": "error",
     "traceback": [
      "\u001b[1;31m---------------------------------------------------------------------------\u001b[0m",
      "\u001b[1;31mKeyboardInterrupt\u001b[0m                         Traceback (most recent call last)",
      "Cell \u001b[1;32mIn[1], line 6\u001b[0m\n\u001b[0;32m      4\u001b[0m \u001b[38;5;28;01mimport\u001b[39;00m\u001b[38;5;250m \u001b[39m\u001b[38;5;21;01mmatplotlib\u001b[39;00m\u001b[38;5;21;01m.\u001b[39;00m\u001b[38;5;21;01mpyplot\u001b[39;00m\u001b[38;5;250m \u001b[39m\u001b[38;5;28;01mas\u001b[39;00m\u001b[38;5;250m \u001b[39m\u001b[38;5;21;01mplt\u001b[39;00m\n\u001b[0;32m      5\u001b[0m \u001b[38;5;28;01mimport\u001b[39;00m\u001b[38;5;250m \u001b[39m\u001b[38;5;21;01mseaborn\u001b[39;00m\u001b[38;5;250m \u001b[39m\u001b[38;5;28;01mas\u001b[39;00m\u001b[38;5;250m \u001b[39m\u001b[38;5;21;01msns\u001b[39;00m\n\u001b[1;32m----> 6\u001b[0m \u001b[38;5;28;01mfrom\u001b[39;00m\u001b[38;5;250m \u001b[39m\u001b[38;5;21;01msklearn\u001b[39;00m\u001b[38;5;21;01m.\u001b[39;00m\u001b[38;5;21;01mmodel_selection\u001b[39;00m\u001b[38;5;250m \u001b[39m\u001b[38;5;28;01mimport\u001b[39;00m train_test_split\n\u001b[0;32m      7\u001b[0m \u001b[38;5;28;01mfrom\u001b[39;00m\u001b[38;5;250m \u001b[39m\u001b[38;5;21;01msklearn\u001b[39;00m\u001b[38;5;21;01m.\u001b[39;00m\u001b[38;5;21;01mcluster\u001b[39;00m\u001b[38;5;250m \u001b[39m\u001b[38;5;28;01mimport\u001b[39;00m KMeans\n\u001b[0;32m      8\u001b[0m \u001b[38;5;28;01mfrom\u001b[39;00m\u001b[38;5;250m \u001b[39m\u001b[38;5;21;01msklearn\u001b[39;00m\u001b[38;5;21;01m.\u001b[39;00m\u001b[38;5;21;01mmetrics\u001b[39;00m\u001b[38;5;250m \u001b[39m\u001b[38;5;28;01mimport\u001b[39;00m classification_report, confusion_matrix\n",
      "File \u001b[1;32mc:\\Users\\PC\\AppData\\Local\\Programs\\Python\\Python311\\Lib\\site-packages\\sklearn\\model_selection\\__init__.py:3\u001b[0m\n\u001b[0;32m      1\u001b[0m \u001b[38;5;28;01mimport\u001b[39;00m\u001b[38;5;250m \u001b[39m\u001b[38;5;21;01mtyping\u001b[39;00m\n\u001b[1;32m----> 3\u001b[0m \u001b[38;5;28;01mfrom\u001b[39;00m\u001b[38;5;250m \u001b[39m\u001b[38;5;21;01m.\u001b[39;00m\u001b[38;5;21;01m_plot\u001b[39;00m\u001b[38;5;250m \u001b[39m\u001b[38;5;28;01mimport\u001b[39;00m LearningCurveDisplay, ValidationCurveDisplay\n\u001b[0;32m      4\u001b[0m \u001b[38;5;28;01mfrom\u001b[39;00m\u001b[38;5;250m \u001b[39m\u001b[38;5;21;01m.\u001b[39;00m\u001b[38;5;21;01m_search\u001b[39;00m\u001b[38;5;250m \u001b[39m\u001b[38;5;28;01mimport\u001b[39;00m GridSearchCV, ParameterGrid, ParameterSampler, RandomizedSearchCV\n\u001b[0;32m      5\u001b[0m \u001b[38;5;28;01mfrom\u001b[39;00m\u001b[38;5;250m \u001b[39m\u001b[38;5;21;01m.\u001b[39;00m\u001b[38;5;21;01m_split\u001b[39;00m\u001b[38;5;250m \u001b[39m\u001b[38;5;28;01mimport\u001b[39;00m (\n\u001b[0;32m      6\u001b[0m     BaseCrossValidator,\n\u001b[0;32m      7\u001b[0m     BaseShuffleSplit,\n\u001b[1;32m   (...)\u001b[0m\n\u001b[0;32m     24\u001b[0m     train_test_split,\n\u001b[0;32m     25\u001b[0m )\n",
      "File \u001b[1;32mc:\\Users\\PC\\AppData\\Local\\Programs\\Python\\Python311\\Lib\\site-packages\\sklearn\\model_selection\\_plot.py:7\u001b[0m\n\u001b[0;32m      5\u001b[0m \u001b[38;5;28;01mfrom\u001b[39;00m\u001b[38;5;250m \u001b[39m\u001b[38;5;21;01m.\u001b[39;00m\u001b[38;5;21;01m.\u001b[39;00m\u001b[38;5;21;01mutils\u001b[39;00m\u001b[38;5;250m \u001b[39m\u001b[38;5;28;01mimport\u001b[39;00m check_matplotlib_support\n\u001b[0;32m      6\u001b[0m \u001b[38;5;28;01mfrom\u001b[39;00m\u001b[38;5;250m \u001b[39m\u001b[38;5;21;01m.\u001b[39;00m\u001b[38;5;21;01m.\u001b[39;00m\u001b[38;5;21;01mutils\u001b[39;00m\u001b[38;5;21;01m.\u001b[39;00m\u001b[38;5;21;01m_plotting\u001b[39;00m\u001b[38;5;250m \u001b[39m\u001b[38;5;28;01mimport\u001b[39;00m _interval_max_min_ratio, _validate_score_name\n\u001b[1;32m----> 7\u001b[0m \u001b[38;5;28;01mfrom\u001b[39;00m\u001b[38;5;250m \u001b[39m\u001b[38;5;21;01m.\u001b[39;00m\u001b[38;5;21;01m_validation\u001b[39;00m\u001b[38;5;250m \u001b[39m\u001b[38;5;28;01mimport\u001b[39;00m learning_curve, validation_curve\n\u001b[0;32m     10\u001b[0m \u001b[38;5;28;01mclass\u001b[39;00m\u001b[38;5;250m \u001b[39m\u001b[38;5;21;01m_BaseCurveDisplay\u001b[39;00m:\n\u001b[0;32m     11\u001b[0m     \u001b[38;5;28;01mdef\u001b[39;00m\u001b[38;5;250m \u001b[39m\u001b[38;5;21m_plot_curve\u001b[39m(\n\u001b[0;32m     12\u001b[0m         \u001b[38;5;28mself\u001b[39m,\n\u001b[0;32m     13\u001b[0m         x_data,\n\u001b[1;32m   (...)\u001b[0m\n\u001b[0;32m     23\u001b[0m         errorbar_kw\u001b[38;5;241m=\u001b[39m\u001b[38;5;28;01mNone\u001b[39;00m,\n\u001b[0;32m     24\u001b[0m     ):\n",
      "File \u001b[1;32mc:\\Users\\PC\\AppData\\Local\\Programs\\Python\\Python311\\Lib\\site-packages\\sklearn\\model_selection\\_validation.py:29\u001b[0m\n\u001b[0;32m     27\u001b[0m \u001b[38;5;28;01mfrom\u001b[39;00m\u001b[38;5;250m \u001b[39m\u001b[38;5;21;01m.\u001b[39;00m\u001b[38;5;21;01m.\u001b[39;00m\u001b[38;5;21;01mbase\u001b[39;00m\u001b[38;5;250m \u001b[39m\u001b[38;5;28;01mimport\u001b[39;00m clone, is_classifier\n\u001b[0;32m     28\u001b[0m \u001b[38;5;28;01mfrom\u001b[39;00m\u001b[38;5;250m \u001b[39m\u001b[38;5;21;01m.\u001b[39;00m\u001b[38;5;21;01m.\u001b[39;00m\u001b[38;5;21;01mexceptions\u001b[39;00m\u001b[38;5;250m \u001b[39m\u001b[38;5;28;01mimport\u001b[39;00m FitFailedWarning\n\u001b[1;32m---> 29\u001b[0m \u001b[38;5;28;01mfrom\u001b[39;00m\u001b[38;5;250m \u001b[39m\u001b[38;5;21;01m.\u001b[39;00m\u001b[38;5;21;01m.\u001b[39;00m\u001b[38;5;21;01mmetrics\u001b[39;00m\u001b[38;5;250m \u001b[39m\u001b[38;5;28;01mimport\u001b[39;00m check_scoring, get_scorer_names\n\u001b[0;32m     30\u001b[0m \u001b[38;5;28;01mfrom\u001b[39;00m\u001b[38;5;250m \u001b[39m\u001b[38;5;21;01m.\u001b[39;00m\u001b[38;5;21;01m.\u001b[39;00m\u001b[38;5;21;01mmetrics\u001b[39;00m\u001b[38;5;21;01m.\u001b[39;00m\u001b[38;5;21;01m_scorer\u001b[39;00m\u001b[38;5;250m \u001b[39m\u001b[38;5;28;01mimport\u001b[39;00m _check_multimetric_scoring, _MultimetricScorer\n\u001b[0;32m     31\u001b[0m \u001b[38;5;28;01mfrom\u001b[39;00m\u001b[38;5;250m \u001b[39m\u001b[38;5;21;01m.\u001b[39;00m\u001b[38;5;21;01m.\u001b[39;00m\u001b[38;5;21;01mpreprocessing\u001b[39;00m\u001b[38;5;250m \u001b[39m\u001b[38;5;28;01mimport\u001b[39;00m LabelEncoder\n",
      "File \u001b[1;32mc:\\Users\\PC\\AppData\\Local\\Programs\\Python\\Python311\\Lib\\site-packages\\sklearn\\metrics\\__init__.py:7\u001b[0m\n\u001b[0;32m      1\u001b[0m \u001b[38;5;124;03m\"\"\"\u001b[39;00m\n\u001b[0;32m      2\u001b[0m \u001b[38;5;124;03mThe :mod:`sklearn.metrics` module includes score functions, performance metrics\u001b[39;00m\n\u001b[0;32m      3\u001b[0m \u001b[38;5;124;03mand pairwise metrics and distance computations.\u001b[39;00m\n\u001b[0;32m      4\u001b[0m \u001b[38;5;124;03m\"\"\"\u001b[39;00m\n\u001b[1;32m----> 7\u001b[0m \u001b[38;5;28;01mfrom\u001b[39;00m\u001b[38;5;250m \u001b[39m\u001b[38;5;21;01m.\u001b[39;00m\u001b[38;5;250m \u001b[39m\u001b[38;5;28;01mimport\u001b[39;00m cluster\n\u001b[0;32m      8\u001b[0m \u001b[38;5;28;01mfrom\u001b[39;00m\u001b[38;5;250m \u001b[39m\u001b[38;5;21;01m.\u001b[39;00m\u001b[38;5;21;01m_classification\u001b[39;00m\u001b[38;5;250m \u001b[39m\u001b[38;5;28;01mimport\u001b[39;00m (\n\u001b[0;32m      9\u001b[0m     accuracy_score,\n\u001b[0;32m     10\u001b[0m     balanced_accuracy_score,\n\u001b[1;32m   (...)\u001b[0m\n\u001b[0;32m     27\u001b[0m     zero_one_loss,\n\u001b[0;32m     28\u001b[0m )\n\u001b[0;32m     29\u001b[0m \u001b[38;5;28;01mfrom\u001b[39;00m\u001b[38;5;250m \u001b[39m\u001b[38;5;21;01m.\u001b[39;00m\u001b[38;5;21;01m_dist_metrics\u001b[39;00m\u001b[38;5;250m \u001b[39m\u001b[38;5;28;01mimport\u001b[39;00m DistanceMetric\n",
      "File \u001b[1;32mc:\\Users\\PC\\AppData\\Local\\Programs\\Python\\Python311\\Lib\\site-packages\\sklearn\\metrics\\cluster\\__init__.py:25\u001b[0m\n\u001b[0;32m      8\u001b[0m \u001b[38;5;28;01mfrom\u001b[39;00m\u001b[38;5;250m \u001b[39m\u001b[38;5;21;01m.\u001b[39;00m\u001b[38;5;21;01m_bicluster\u001b[39;00m\u001b[38;5;250m \u001b[39m\u001b[38;5;28;01mimport\u001b[39;00m consensus_score\n\u001b[0;32m      9\u001b[0m \u001b[38;5;28;01mfrom\u001b[39;00m\u001b[38;5;250m \u001b[39m\u001b[38;5;21;01m.\u001b[39;00m\u001b[38;5;21;01m_supervised\u001b[39;00m\u001b[38;5;250m \u001b[39m\u001b[38;5;28;01mimport\u001b[39;00m (\n\u001b[0;32m     10\u001b[0m     adjusted_mutual_info_score,\n\u001b[0;32m     11\u001b[0m     adjusted_rand_score,\n\u001b[1;32m   (...)\u001b[0m\n\u001b[0;32m     23\u001b[0m     v_measure_score,\n\u001b[0;32m     24\u001b[0m )\n\u001b[1;32m---> 25\u001b[0m \u001b[38;5;28;01mfrom\u001b[39;00m\u001b[38;5;250m \u001b[39m\u001b[38;5;21;01m.\u001b[39;00m\u001b[38;5;21;01m_unsupervised\u001b[39;00m\u001b[38;5;250m \u001b[39m\u001b[38;5;28;01mimport\u001b[39;00m (\n\u001b[0;32m     26\u001b[0m     calinski_harabasz_score,\n\u001b[0;32m     27\u001b[0m     davies_bouldin_score,\n\u001b[0;32m     28\u001b[0m     silhouette_samples,\n\u001b[0;32m     29\u001b[0m     silhouette_score,\n\u001b[0;32m     30\u001b[0m )\n\u001b[0;32m     32\u001b[0m __all__ \u001b[38;5;241m=\u001b[39m [\n\u001b[0;32m     33\u001b[0m     \u001b[38;5;124m\"\u001b[39m\u001b[38;5;124madjusted_mutual_info_score\u001b[39m\u001b[38;5;124m\"\u001b[39m,\n\u001b[0;32m     34\u001b[0m     \u001b[38;5;124m\"\u001b[39m\u001b[38;5;124mnormalized_mutual_info_score\u001b[39m\u001b[38;5;124m\"\u001b[39m,\n\u001b[1;32m   (...)\u001b[0m\n\u001b[0;32m     51\u001b[0m     \u001b[38;5;124m\"\u001b[39m\u001b[38;5;124mconsensus_score\u001b[39m\u001b[38;5;124m\"\u001b[39m,\n\u001b[0;32m     52\u001b[0m ]\n",
      "File \u001b[1;32mc:\\Users\\PC\\AppData\\Local\\Programs\\Python\\Python311\\Lib\\site-packages\\sklearn\\metrics\\cluster\\_unsupervised.py:22\u001b[0m\n\u001b[0;32m     16\u001b[0m \u001b[38;5;28;01mfrom\u001b[39;00m\u001b[38;5;250m \u001b[39m\u001b[38;5;21;01m.\u001b[39;00m\u001b[38;5;21;01m.\u001b[39;00m\u001b[38;5;21;01m.\u001b[39;00m\u001b[38;5;21;01mutils\u001b[39;00m\u001b[38;5;250m \u001b[39m\u001b[38;5;28;01mimport\u001b[39;00m _safe_indexing, check_random_state, check_X_y\n\u001b[0;32m     17\u001b[0m \u001b[38;5;28;01mfrom\u001b[39;00m\u001b[38;5;250m \u001b[39m\u001b[38;5;21;01m.\u001b[39;00m\u001b[38;5;21;01m.\u001b[39;00m\u001b[38;5;21;01m.\u001b[39;00m\u001b[38;5;21;01mutils\u001b[39;00m\u001b[38;5;21;01m.\u001b[39;00m\u001b[38;5;21;01m_param_validation\u001b[39;00m\u001b[38;5;250m \u001b[39m\u001b[38;5;28;01mimport\u001b[39;00m (\n\u001b[0;32m     18\u001b[0m     Interval,\n\u001b[0;32m     19\u001b[0m     StrOptions,\n\u001b[0;32m     20\u001b[0m     validate_params,\n\u001b[0;32m     21\u001b[0m )\n\u001b[1;32m---> 22\u001b[0m \u001b[38;5;28;01mfrom\u001b[39;00m\u001b[38;5;250m \u001b[39m\u001b[38;5;21;01m.\u001b[39;00m\u001b[38;5;21;01m.\u001b[39;00m\u001b[38;5;21;01mpairwise\u001b[39;00m\u001b[38;5;250m \u001b[39m\u001b[38;5;28;01mimport\u001b[39;00m _VALID_METRICS, pairwise_distances, pairwise_distances_chunked\n\u001b[0;32m     25\u001b[0m \u001b[38;5;28;01mdef\u001b[39;00m\u001b[38;5;250m \u001b[39m\u001b[38;5;21mcheck_number_of_labels\u001b[39m(n_labels, n_samples):\n\u001b[0;32m     26\u001b[0m \u001b[38;5;250m    \u001b[39m\u001b[38;5;124;03m\"\"\"Check that number of labels are valid.\u001b[39;00m\n\u001b[0;32m     27\u001b[0m \n\u001b[0;32m     28\u001b[0m \u001b[38;5;124;03m    Parameters\u001b[39;00m\n\u001b[1;32m   (...)\u001b[0m\n\u001b[0;32m     34\u001b[0m \u001b[38;5;124;03m        Number of samples.\u001b[39;00m\n\u001b[0;32m     35\u001b[0m \u001b[38;5;124;03m    \"\"\"\u001b[39;00m\n",
      "File \u001b[1;32mc:\\Users\\PC\\AppData\\Local\\Programs\\Python\\Python311\\Lib\\site-packages\\sklearn\\metrics\\pairwise.py:44\u001b[0m\n\u001b[0;32m     42\u001b[0m \u001b[38;5;28;01mfrom\u001b[39;00m\u001b[38;5;250m \u001b[39m\u001b[38;5;21;01m.\u001b[39;00m\u001b[38;5;21;01m.\u001b[39;00m\u001b[38;5;21;01mutils\u001b[39;00m\u001b[38;5;21;01m.\u001b[39;00m\u001b[38;5;21;01mparallel\u001b[39;00m\u001b[38;5;250m \u001b[39m\u001b[38;5;28;01mimport\u001b[39;00m Parallel, delayed\n\u001b[0;32m     43\u001b[0m \u001b[38;5;28;01mfrom\u001b[39;00m\u001b[38;5;250m \u001b[39m\u001b[38;5;21;01m.\u001b[39;00m\u001b[38;5;21;01m.\u001b[39;00m\u001b[38;5;21;01mutils\u001b[39;00m\u001b[38;5;21;01m.\u001b[39;00m\u001b[38;5;21;01mvalidation\u001b[39;00m\u001b[38;5;250m \u001b[39m\u001b[38;5;28;01mimport\u001b[39;00m _num_samples, check_non_negative\n\u001b[1;32m---> 44\u001b[0m \u001b[38;5;28;01mfrom\u001b[39;00m\u001b[38;5;250m \u001b[39m\u001b[38;5;21;01m.\u001b[39;00m\u001b[38;5;21;01m_pairwise_distances_reduction\u001b[39;00m\u001b[38;5;250m \u001b[39m\u001b[38;5;28;01mimport\u001b[39;00m ArgKmin\n\u001b[0;32m     45\u001b[0m \u001b[38;5;28;01mfrom\u001b[39;00m\u001b[38;5;250m \u001b[39m\u001b[38;5;21;01m.\u001b[39;00m\u001b[38;5;21;01m_pairwise_fast\u001b[39;00m\u001b[38;5;250m \u001b[39m\u001b[38;5;28;01mimport\u001b[39;00m _chi2_kernel_fast, _sparse_manhattan\n\u001b[0;32m     48\u001b[0m \u001b[38;5;66;03m# Utility Functions\u001b[39;00m\n",
      "File \u001b[1;32mc:\\Users\\PC\\AppData\\Local\\Programs\\Python\\Python311\\Lib\\site-packages\\sklearn\\metrics\\_pairwise_distances_reduction\\__init__.py:89\u001b[0m\n\u001b[0;32m      1\u001b[0m \u001b[38;5;66;03m# Pairwise Distances Reductions\u001b[39;00m\n\u001b[0;32m      2\u001b[0m \u001b[38;5;66;03m# =============================\u001b[39;00m\n\u001b[0;32m      3\u001b[0m \u001b[38;5;66;03m#\u001b[39;00m\n\u001b[1;32m   (...)\u001b[0m\n\u001b[0;32m     85\u001b[0m \u001b[38;5;66;03m#    using Generalized Matrix Multiplication over `float64` data (see the\u001b[39;00m\n\u001b[0;32m     86\u001b[0m \u001b[38;5;66;03m#    docstring of :class:`GEMMTermComputer64` for details).\u001b[39;00m\n\u001b[1;32m---> 89\u001b[0m \u001b[38;5;28;01mfrom\u001b[39;00m\u001b[38;5;250m \u001b[39m\u001b[38;5;21;01m.\u001b[39;00m\u001b[38;5;21;01m_dispatcher\u001b[39;00m\u001b[38;5;250m \u001b[39m\u001b[38;5;28;01mimport\u001b[39;00m (\n\u001b[0;32m     90\u001b[0m     ArgKmin,\n\u001b[0;32m     91\u001b[0m     ArgKminClassMode,\n\u001b[0;32m     92\u001b[0m     BaseDistancesReductionDispatcher,\n\u001b[0;32m     93\u001b[0m     RadiusNeighbors,\n\u001b[0;32m     94\u001b[0m     sqeuclidean_row_norms,\n\u001b[0;32m     95\u001b[0m )\n\u001b[0;32m     97\u001b[0m __all__ \u001b[38;5;241m=\u001b[39m [\n\u001b[0;32m     98\u001b[0m     \u001b[38;5;124m\"\u001b[39m\u001b[38;5;124mBaseDistancesReductionDispatcher\u001b[39m\u001b[38;5;124m\"\u001b[39m,\n\u001b[0;32m     99\u001b[0m     \u001b[38;5;124m\"\u001b[39m\u001b[38;5;124mArgKmin\u001b[39m\u001b[38;5;124m\"\u001b[39m,\n\u001b[1;32m   (...)\u001b[0m\n\u001b[0;32m    102\u001b[0m     \u001b[38;5;124m\"\u001b[39m\u001b[38;5;124msqeuclidean_row_norms\u001b[39m\u001b[38;5;124m\"\u001b[39m,\n\u001b[0;32m    103\u001b[0m ]\n",
      "File \u001b[1;32mc:\\Users\\PC\\AppData\\Local\\Programs\\Python\\Python311\\Lib\\site-packages\\sklearn\\metrics\\_pairwise_distances_reduction\\_dispatcher.py:18\u001b[0m\n\u001b[0;32m     13\u001b[0m \u001b[38;5;28;01mfrom\u001b[39;00m\u001b[38;5;250m \u001b[39m\u001b[38;5;21;01m.\u001b[39;00m\u001b[38;5;21;01m_argkmin_classmode\u001b[39;00m\u001b[38;5;250m \u001b[39m\u001b[38;5;28;01mimport\u001b[39;00m (\n\u001b[0;32m     14\u001b[0m     ArgKminClassMode32,\n\u001b[0;32m     15\u001b[0m     ArgKminClassMode64,\n\u001b[0;32m     16\u001b[0m )\n\u001b[0;32m     17\u001b[0m \u001b[38;5;28;01mfrom\u001b[39;00m\u001b[38;5;250m \u001b[39m\u001b[38;5;21;01m.\u001b[39;00m\u001b[38;5;21;01m_base\u001b[39;00m\u001b[38;5;250m \u001b[39m\u001b[38;5;28;01mimport\u001b[39;00m _sqeuclidean_row_norms32, _sqeuclidean_row_norms64\n\u001b[1;32m---> 18\u001b[0m \u001b[38;5;28;01mfrom\u001b[39;00m\u001b[38;5;250m \u001b[39m\u001b[38;5;21;01m.\u001b[39;00m\u001b[38;5;21;01m_radius_neighbors\u001b[39;00m\u001b[38;5;250m \u001b[39m\u001b[38;5;28;01mimport\u001b[39;00m (\n\u001b[0;32m     19\u001b[0m     RadiusNeighbors32,\n\u001b[0;32m     20\u001b[0m     RadiusNeighbors64,\n\u001b[0;32m     21\u001b[0m )\n\u001b[0;32m     24\u001b[0m \u001b[38;5;28;01mdef\u001b[39;00m\u001b[38;5;250m \u001b[39m\u001b[38;5;21msqeuclidean_row_norms\u001b[39m(X, num_threads):\n\u001b[0;32m     25\u001b[0m \u001b[38;5;250m    \u001b[39m\u001b[38;5;124;03m\"\"\"Compute the squared euclidean norm of the rows of X in parallel.\u001b[39;00m\n\u001b[0;32m     26\u001b[0m \n\u001b[0;32m     27\u001b[0m \u001b[38;5;124;03m    Parameters\u001b[39;00m\n\u001b[1;32m   (...)\u001b[0m\n\u001b[0;32m     38\u001b[0m \u001b[38;5;124;03m        Arrays containing the squared euclidean norm of each row of X.\u001b[39;00m\n\u001b[0;32m     39\u001b[0m \u001b[38;5;124;03m    \"\"\"\u001b[39;00m\n",
      "File \u001b[1;32m<frozen importlib._bootstrap>:405\u001b[0m, in \u001b[0;36mparent\u001b[1;34m(self)\u001b[0m\n",
      "\u001b[1;31mKeyboardInterrupt\u001b[0m: "
     ]
    }
   ],
   "source": [
    "# Importation des bibliothèques\n",
    "import pandas as pd\n",
    "import numpy as np\n",
    "import matplotlib.pyplot as plt\n",
    "import seaborn as sns\n",
    "from sklearn.model_selection import train_test_split\n",
    "from sklearn.cluster import KMeans\n",
    "from sklearn.metrics import classification_report, confusion_matrix\n",
    "from sklearn.preprocessing import StandardScaler\n",
    "from sklearn.linear_model import LogisticRegression\n",
    "from sklearn.metrics import classification_report, confusion_matrix, roc_auc_score, roc_curve, homogeneity_score, completeness_score, v_measure_score\n",
    "from tabulate import tabulate"
   ]
  },
  {
   "cell_type": "markdown",
   "metadata": {},
   "source": [
    "## Préparation des données"
   ]
  },
  {
   "cell_type": "code",
   "execution_count": null,
   "metadata": {},
   "outputs": [
    {
     "data": {
      "text/html": [
       "<div>\n",
       "<style scoped>\n",
       "    .dataframe tbody tr th:only-of-type {\n",
       "        vertical-align: middle;\n",
       "    }\n",
       "\n",
       "    .dataframe tbody tr th {\n",
       "        vertical-align: top;\n",
       "    }\n",
       "\n",
       "    .dataframe thead th {\n",
       "        text-align: right;\n",
       "    }\n",
       "</style>\n",
       "<table border=\"1\" class=\"dataframe\">\n",
       "  <thead>\n",
       "    <tr style=\"text-align: right;\">\n",
       "      <th></th>\n",
       "      <th>Time</th>\n",
       "      <th>V1</th>\n",
       "      <th>V2</th>\n",
       "      <th>V3</th>\n",
       "      <th>V4</th>\n",
       "      <th>V5</th>\n",
       "      <th>V6</th>\n",
       "      <th>V7</th>\n",
       "      <th>V8</th>\n",
       "      <th>V9</th>\n",
       "      <th>...</th>\n",
       "      <th>V21</th>\n",
       "      <th>V22</th>\n",
       "      <th>V23</th>\n",
       "      <th>V24</th>\n",
       "      <th>V25</th>\n",
       "      <th>V26</th>\n",
       "      <th>V27</th>\n",
       "      <th>V28</th>\n",
       "      <th>Amount</th>\n",
       "      <th>Class</th>\n",
       "    </tr>\n",
       "  </thead>\n",
       "  <tbody>\n",
       "    <tr>\n",
       "      <th>0</th>\n",
       "      <td>0.0</td>\n",
       "      <td>-1.359807</td>\n",
       "      <td>-0.072781</td>\n",
       "      <td>2.536347</td>\n",
       "      <td>1.378155</td>\n",
       "      <td>-0.338321</td>\n",
       "      <td>0.462388</td>\n",
       "      <td>0.239599</td>\n",
       "      <td>0.098698</td>\n",
       "      <td>0.363787</td>\n",
       "      <td>...</td>\n",
       "      <td>-0.018307</td>\n",
       "      <td>0.277838</td>\n",
       "      <td>-0.110474</td>\n",
       "      <td>0.066928</td>\n",
       "      <td>0.128539</td>\n",
       "      <td>-0.189115</td>\n",
       "      <td>0.133558</td>\n",
       "      <td>-0.021053</td>\n",
       "      <td>149.62</td>\n",
       "      <td>0</td>\n",
       "    </tr>\n",
       "    <tr>\n",
       "      <th>1</th>\n",
       "      <td>0.0</td>\n",
       "      <td>1.191857</td>\n",
       "      <td>0.266151</td>\n",
       "      <td>0.166480</td>\n",
       "      <td>0.448154</td>\n",
       "      <td>0.060018</td>\n",
       "      <td>-0.082361</td>\n",
       "      <td>-0.078803</td>\n",
       "      <td>0.085102</td>\n",
       "      <td>-0.255425</td>\n",
       "      <td>...</td>\n",
       "      <td>-0.225775</td>\n",
       "      <td>-0.638672</td>\n",
       "      <td>0.101288</td>\n",
       "      <td>-0.339846</td>\n",
       "      <td>0.167170</td>\n",
       "      <td>0.125895</td>\n",
       "      <td>-0.008983</td>\n",
       "      <td>0.014724</td>\n",
       "      <td>2.69</td>\n",
       "      <td>0</td>\n",
       "    </tr>\n",
       "    <tr>\n",
       "      <th>2</th>\n",
       "      <td>1.0</td>\n",
       "      <td>-1.358354</td>\n",
       "      <td>-1.340163</td>\n",
       "      <td>1.773209</td>\n",
       "      <td>0.379780</td>\n",
       "      <td>-0.503198</td>\n",
       "      <td>1.800499</td>\n",
       "      <td>0.791461</td>\n",
       "      <td>0.247676</td>\n",
       "      <td>-1.514654</td>\n",
       "      <td>...</td>\n",
       "      <td>0.247998</td>\n",
       "      <td>0.771679</td>\n",
       "      <td>0.909412</td>\n",
       "      <td>-0.689281</td>\n",
       "      <td>-0.327642</td>\n",
       "      <td>-0.139097</td>\n",
       "      <td>-0.055353</td>\n",
       "      <td>-0.059752</td>\n",
       "      <td>378.66</td>\n",
       "      <td>0</td>\n",
       "    </tr>\n",
       "    <tr>\n",
       "      <th>3</th>\n",
       "      <td>1.0</td>\n",
       "      <td>-0.966272</td>\n",
       "      <td>-0.185226</td>\n",
       "      <td>1.792993</td>\n",
       "      <td>-0.863291</td>\n",
       "      <td>-0.010309</td>\n",
       "      <td>1.247203</td>\n",
       "      <td>0.237609</td>\n",
       "      <td>0.377436</td>\n",
       "      <td>-1.387024</td>\n",
       "      <td>...</td>\n",
       "      <td>-0.108300</td>\n",
       "      <td>0.005274</td>\n",
       "      <td>-0.190321</td>\n",
       "      <td>-1.175575</td>\n",
       "      <td>0.647376</td>\n",
       "      <td>-0.221929</td>\n",
       "      <td>0.062723</td>\n",
       "      <td>0.061458</td>\n",
       "      <td>123.50</td>\n",
       "      <td>0</td>\n",
       "    </tr>\n",
       "    <tr>\n",
       "      <th>4</th>\n",
       "      <td>2.0</td>\n",
       "      <td>-1.158233</td>\n",
       "      <td>0.877737</td>\n",
       "      <td>1.548718</td>\n",
       "      <td>0.403034</td>\n",
       "      <td>-0.407193</td>\n",
       "      <td>0.095921</td>\n",
       "      <td>0.592941</td>\n",
       "      <td>-0.270533</td>\n",
       "      <td>0.817739</td>\n",
       "      <td>...</td>\n",
       "      <td>-0.009431</td>\n",
       "      <td>0.798278</td>\n",
       "      <td>-0.137458</td>\n",
       "      <td>0.141267</td>\n",
       "      <td>-0.206010</td>\n",
       "      <td>0.502292</td>\n",
       "      <td>0.219422</td>\n",
       "      <td>0.215153</td>\n",
       "      <td>69.99</td>\n",
       "      <td>0</td>\n",
       "    </tr>\n",
       "  </tbody>\n",
       "</table>\n",
       "<p>5 rows × 31 columns</p>\n",
       "</div>"
      ],
      "text/plain": [
       "   Time        V1        V2        V3        V4        V5        V6        V7  \\\n",
       "0   0.0 -1.359807 -0.072781  2.536347  1.378155 -0.338321  0.462388  0.239599   \n",
       "1   0.0  1.191857  0.266151  0.166480  0.448154  0.060018 -0.082361 -0.078803   \n",
       "2   1.0 -1.358354 -1.340163  1.773209  0.379780 -0.503198  1.800499  0.791461   \n",
       "3   1.0 -0.966272 -0.185226  1.792993 -0.863291 -0.010309  1.247203  0.237609   \n",
       "4   2.0 -1.158233  0.877737  1.548718  0.403034 -0.407193  0.095921  0.592941   \n",
       "\n",
       "         V8        V9  ...       V21       V22       V23       V24       V25  \\\n",
       "0  0.098698  0.363787  ... -0.018307  0.277838 -0.110474  0.066928  0.128539   \n",
       "1  0.085102 -0.255425  ... -0.225775 -0.638672  0.101288 -0.339846  0.167170   \n",
       "2  0.247676 -1.514654  ...  0.247998  0.771679  0.909412 -0.689281 -0.327642   \n",
       "3  0.377436 -1.387024  ... -0.108300  0.005274 -0.190321 -1.175575  0.647376   \n",
       "4 -0.270533  0.817739  ... -0.009431  0.798278 -0.137458  0.141267 -0.206010   \n",
       "\n",
       "        V26       V27       V28  Amount  Class  \n",
       "0 -0.189115  0.133558 -0.021053  149.62      0  \n",
       "1  0.125895 -0.008983  0.014724    2.69      0  \n",
       "2 -0.139097 -0.055353 -0.059752  378.66      0  \n",
       "3 -0.221929  0.062723  0.061458  123.50      0  \n",
       "4  0.502292  0.219422  0.215153   69.99      0  \n",
       "\n",
       "[5 rows x 31 columns]"
      ]
     },
     "execution_count": 3,
     "metadata": {},
     "output_type": "execute_result"
    }
   ],
   "source": [
    "# Chargement des données\n",
    "df = pd.read_csv('creditcard.csv')\n",
    "df.head()"
   ]
  },
  {
   "cell_type": "code",
   "execution_count": null,
   "metadata": {},
   "outputs": [],
   "source": [
    "# Normalisation de la variable 'Amount'\n",
    "scaler = StandardScaler()\n",
    "df['Amount'] = scaler.fit_transform(df['Amount'].values.reshape(-1, 1))"
   ]
  },
  {
   "cell_type": "code",
   "execution_count": null,
   "metadata": {},
   "outputs": [],
   "source": [
    "# Séparation des données\n",
    "X = df.drop('Class', axis=1)\n",
    "y = df['Class']\n",
    "X_train, X_test, y_train, y_test = train_test_split(X, y, test_size=0.3, random_state=42, stratify=y)"
   ]
  },
  {
   "cell_type": "markdown",
   "metadata": {},
   "source": [
    "## Niveau supérieur : Régression logistique\n",
    "La régression logistique est un modèle statistique utilisé pour la  classification par apprentissage supervisé qui est utilisé pour prédire les observations sur un ensemble discret de classes. \n",
    "En pratique, il est utilisé pour classer les observations en différentes catégories. Par conséquent, sa sortie est de nature discrète. La régression logistique est également appelée régression Logit.\n",
    "### 1. Fonction Logistique (Sigmoïde)\n",
    "La régression logistique utilise la fonction sigmoïde pour transformer une combinaison linéaire des variables d'entrée en une probabilité :\n",
    "$$\n",
    "\\sigma(z) = \\frac{1}{1 + e^{-z}}\n",
    "$$\n",
    "où :\n",
    "- $ z = w_0 + w_1 x_1 + w_2 x_2 + \\dots + w_n x_n $ est une combinaison linéaire des variables d'entrée,\n",
    "- $ w_i $ sont les poids du modèle.\n",
    "\n",
    "La sortie de la fonction sigmoïde est comprise entre 0 et 1, ce qui permet d'interpréter le résultat comme une probabilité d'appartenance à une classe.\n",
    "\n",
    "### 2. Fonction de Vraisemblance\n",
    "On modélise la probabilité que $ y = 1 $ en fonction de $ x $ comme suit :\n",
    "\n",
    "$$\n",
    "P(y=1 | x) = \\sigma(z) = \\frac{1}{1 + e^{-z}}\n",
    "$$\n",
    "\n",
    "et donc :\n",
    "\n",
    "$$\n",
    "P(y=0 | x) = 1 - \\sigma(z)\n",
    "$$\n",
    "\n",
    "Si on note $ p = P(y=1 | x) $, la probabilité conditionnelle de $ y $ est donnée par :\n",
    "\n",
    "$$\n",
    "P(y | x) = p^y (1 - p)^{1 - y}\n",
    "$$\n",
    "\n",
    "Le log de la vraisemblance pour un ensemble de $ m $ observations est :\n",
    "\n",
    "$$\n",
    "L(w) = \\prod_{i=1}^{m} P(y_i | x_i)\n",
    "$$\n",
    "\n",
    "En prenant le logarithme (log-vraisemblance) :\n",
    "\n",
    "$$\n",
    "\\ell(w) = \\sum_{i=1}^{m} \\left[ y_i \\log p_i + (1 - y_i) \\log (1 - p_i) \\right]\n",
    "$$\n",
    "\n",
    "où $ p_i = \\sigma(w^T x_i) $.\n",
    "\n",
    "\n",
    "### 3. Estimation des Paramètres (Optimisation)\n",
    "Les poids $ w $ sont estimés en maximisant la log-vraisemblance :\n",
    "\n",
    "$$\n",
    "\\max_{w} \\sum_{i=1}^{m} \\left[ y_i \\log \\sigma(w^T x_i) + (1 - y_i) \\log (1 - \\sigma(w^T x_i)) \\right]\n",
    "$$\n",
    "\n",
    "Cela se fait généralement par descente de gradient, où les mises à jour des poids suivent :\n",
    "\n",
    "$$\n",
    "w \\leftarrow w - \\alpha \\nabla \\ell(w)\n",
    "$$\n",
    "\n",
    "avec $ \\alpha $ le taux d'apprentissage.\n",
    "\n",
    "Le gradient est donné par :\n",
    "\n",
    "$$\n",
    "\\frac{\\partial \\ell}{\\partial w_j} = \\sum_{i=1}^{m} (y_i - \\sigma(w^T x_i)) x_{ij}\n",
    "$$\n",
    "\n",
    "\n",
    "### 4. Interprétation et Décision\n",
    "L'algorithme retourne une probabilité $ p $. Pour prendre une décision binaire :\n",
    "\n",
    "- Si $ p \\geq 0.5 $, on prédit $ y = 1 $.\n",
    "- Sinon, $ y = 0 $.\n",
    "\n"
   ]
  },
  {
   "cell_type": "code",
   "execution_count": null,
   "metadata": {},
   "outputs": [],
   "source": [
    "#Crée un modèle de régression logistique avec une optimisation est basé sur la maximisation de la vraisemblance\n",
    "log_reg = LogisticRegression(solver='liblinear',max_iter=1000, random_state=42)\n",
    "\n",
    "#Apprend les paramètres w du modèle en maximisant la log-vraisemblance en utilisant la descente de gradient pour trouver les meilleurs poids w\n",
    "log_reg.fit(X_train, y_train)\n",
    "\n",
    "#- Calcule z et le passe  dans la fonction sigmoïde afin d'appliquer un seuil de décision pour le classer\n",
    "y_pred_log_reg = log_reg.predict(X_test)"
   ]
  },
  {
   "cell_type": "markdown",
   "metadata": {},
   "source": [
    "## Rapport de classification du niveau supérieur\n",
    "### 1. Précision \n",
    "La précision est la proportion de prédictions positives correctes par rapport à toutes les prédictions positives faites par le modèle. \n",
    "\n",
    "$$\n",
    "\\text{Précision} = \\frac{TP}{TP + FP}\n",
    "$$\n",
    "\n",
    "Où :\n",
    "- TP : Vrais positifs, nombre d'exemples classés correctement comme appartenant à la classe positive,\n",
    "- FP : Faux positifs, nombre d'exemples classés incorrectement comme appartenant à la classe positive.\n",
    "### 2. Rappel (Recall)\n",
    "Le rappel mesure la capacité du modèle à identifier correctement les éléments de la classe positive.\n",
    "\n",
    "$$\n",
    "\\text{Rappel} = \\frac{TP}{TP + FN}\n",
    "$$\n",
    "\n",
    "Où :\n",
    "- FN  : Faux négatifs, nombre d'exemples appartenant à la classe positive, mais classés comme négatifs.\n",
    "### 3. F1-score\n",
    "Le F1-score est la moyenne harmonique entre la précision et le rappel. Il est souvent utilisé comme une mesure unique quand les classes sont déséquilibrées.\n",
    "\n",
    "$$\n",
    "\\text{F1-score} = 2 \\times \\frac{\\text{Précision} \\times \\text{Rappel}}{\\text{Précision} + \\text{Rappel}}\n",
    "$$\n",
    "### 4. Support\n",
    "Le support représente le nombre total d’occurrences dans chaque classe réelle. Cela aide à comprendre si une classe est sur-représentée ou sous-représentée dans les données.\n",
    "### 5. Précision macro, micro et pondérée\n",
    "- Précision micro : Calculée globalement, en prenant en compte tous les vrais positifs, faux positifs et faux négatifs de toutes les classes.\n",
    "  \n",
    "$$\n",
    "\\text{Précision micro} = \\frac{\\sum TP}{\\sum TP + \\sum FP}\n",
    "$$\n",
    "\n",
    "- Précision macro : La moyenne des précisions calculées pour chaque classe, sans tenir compte du déséquilibre de classe.\n",
    "  \n",
    "$$\n",
    "\\text{Précision macro} = \\frac{1}{n_{\\text{classes}}} \\sum_{i} \\frac{TP_i}{TP_i + FP_i}\n",
    "$$\n",
    "\n",
    "- Précision pondérée : Calculée en tenant compte du support de chaque classe, c’est-à-dire du nombre d'exemples dans chaque classe.\n",
    "\n",
    "$$\n",
    "\\text{Précision pondérée} = \\frac{1}{m} \\sum_{i} \\text{support}_i \\times \\text{précision}_i\n",
    "$$"
   ]
  },
  {
   "cell_type": "code",
   "execution_count": null,
   "metadata": {},
   "outputs": [
    {
     "name": "stdout",
     "output_type": "stream",
     "text": [
      "Rapport de classification du niveau supérieur :\n",
      "              precision    recall  f1-score   support\n",
      "\n",
      "           0       1.00      1.00      1.00     53698\n",
      "           1       0.84      0.63      0.72        43\n",
      "\n",
      "    accuracy                           1.00     53741\n",
      "   macro avg       0.92      0.81      0.86     53741\n",
      "weighted avg       1.00      1.00      1.00     53741\n",
      "\n",
      "Matrice de confusion du niveau supérieur :\n",
      "[[53693     5]\n",
      " [   16    27]]\n"
     ]
    }
   ],
   "source": [
    "report_dict = classification_report(y_test, y_pred_log_reg, output_dict=True)\n",
    "report_df = pd.DataFrame(report_dict).transpose()\n",
    "report_df = report_df.round(3)\n",
    "\n",
    "print(\"\\n Rapport de classification du niveau supérieur :\\n\")\n",
    "print(tabulate(report_df, headers='keys', tablefmt='fancy_grid'))\n"
   ]
  },
  {
   "cell_type": "markdown",
   "metadata": {},
   "source": [
    "### 6. Matrice de confusion\n",
    "La matrice de confusion donne une vue détaillée des performances du modèle en montrant combien d'exemples ont été correctement ou incorrectement classés dans chaque classe"
   ]
  },
  {
   "cell_type": "code",
   "execution_count": null,
   "metadata": {},
   "outputs": [],
   "source": [
    "conf_matrix = confusion_matrix(y_test, y_pred_log_reg)\n",
    "labels = [\"Classe 0\", \"Classe 1\"]\n",
    "conf_matrix_df = pd.DataFrame(conf_matrix, index=labels, columns=labels)\n",
    "print(\"\\nMatrice de confusion du niveau supérieur :\\n\")\n",
    "print(tabulate(conf_matrix_df, headers=\"keys\", tablefmt=\"fancy_grid\"))\n"
   ]
  },
  {
   "cell_type": "code",
   "execution_count": null,
   "metadata": {},
   "outputs": [
    {
     "data": {
      "image/png": "[encoded data removed]",
      "text/plain": [
       "<Figure size 640x480 with 2 Axes>"
      ]
     },
     "metadata": {},
     "output_type": "display_data"
    }
   ],
   "source": [
    "# Visualisation de la matrice de confusion\n",
    "conf_matrix = confusion_matrix(y_test, y_pred_log_reg)\n",
    "sns.heatmap(conf_matrix, annot=True, fmt='d', cmap='Purples', xticklabels=['Normal', 'Fraude'], yticklabels=['Normal', 'Fraude'])\n",
    "plt.xlabel('Prédit')\n",
    "plt.ylabel('Réel')\n",
    "plt.title('Matrice de confusion du niveau supérieur')\n",
    "plt.show()"
   ]
  },
  {
   "cell_type": "markdown",
   "metadata": {},
   "source": [
    "### 7. La courbe ROC\n",
    "La courbe ROC est une représentation graphique qui montre les performances d'un modèle de classification à différents seuils de décision. Elle est tracée en fonction de deux mesures :\n",
    "\n",
    "- TPR (True Positive Rate), aussi appelé Rappel : la proportion des instances positives qui ont été correctement identifiées par le modèle.\n",
    "  \n",
    "  $$\n",
    "  \\text{TPR} = \\frac{TP}{TP + FN}\n",
    "  $$\n",
    "\n",
    "- FPR (False Positive Rate), aussi appelé Taux de faux positifs : la proportion des instances négatives qui ont été incorrectement classées comme positives.\n",
    "  \n",
    "  $$\n",
    "  \\text{FPR} = \\frac{FP}{FP + TN}\n",
    "  $$\n",
    "Le but est de maximiser le TPR (rappel) tout en minimisant le FPR (faux positifs"
   ]
  },
  {
   "cell_type": "code",
   "execution_count": null,
   "metadata": {},
   "outputs": [],
   "source": [
    "y_pred_proba = log_reg.predict_proba(X_test)[:, 1]\n",
    "auc_roc = roc_auc_score(y_test, y_pred_proba)\n",
    "print(\"AUC-ROC :\", auc_roc)\n",
    "\n",
    "fpr, tpr, thresholds = roc_curve(y_test, y_pred_proba)\n",
    "plt.plot(fpr, tpr, label=f'AUC = {auc_roc:.2f}')\n",
    "plt.plot([0, 1], [0, 1], linestyle='--', color='gray')\n",
    "plt.xlabel('Taux de faux positifs (FPR)')\n",
    "plt.ylabel('Taux de vrais positifs (TPR)')\n",
    "plt.title('Courbe ROC')\n",
    "plt.legend()\n",
    "plt.show()"
   ]
  },
  {
   "cell_type": "markdown",
   "metadata": {},
   "source": [
    "## Niveau inférieur : K-means\n",
    "Le K-means est un algorithme de clustering non supervisé qui cherche à partitionner un ensemble de données en $ k $ clusters ou groupes distincts, où chaque donnée appartient à un seul cluster. Voici un exposé des fondements mathématiques du K-means :\n",
    "\n",
    "### Objectif du K-means\n",
    "L'objectif de l'algorithme est de minimiser la somme des distances au carré entre les points de données et leurs centres de clusters respectifs. Le but est de trouver un ensemble de $ k $ centres de clusters qui minimisent cette somme de distances.\n",
    "\n",
    "### 1. Fonction de coût (Optimisation)\n",
    "La fonction de coût que K-means cherche à minimiser est définie comme suit :\n",
    "\n",
    "$$\n",
    "J(c, \\mu) = \\sum_{i=1}^{n} \\sum_{k=1}^{K} \\mathbb{1}(c_i = k) \\| x_i - \\mu_k \\|^2\n",
    "$$\n",
    "\n",
    "Où :\n",
    "- $ n $ est le nombre total de points de données.\n",
    "- $ K $ est le nombre de clusters.\n",
    "- $ c_i $ est le cluster assigné au point $ x_i $.\n",
    "- $ \\mathbb{1}(c_i = k) $ est une fonction indicatrice qui vaut 1 si $ x_i $ appartient au cluster $ k $, et 0 sinon.\n",
    "- $ \\mu_k $ est le centroïde du cluster $ k $.\n",
    "- $ \\| x_i - \\mu_k \\|^2 $ est la distance au carré entre le point $ x_i $ et le centroïde $ \\mu_k $.\n",
    "\n",
    "### 2. Étapes de l'algorithme K-means\n",
    "\n",
    "L'algorithme K-means procède par une série d'itérations qui alternent entre deux étapes :\n",
    "\n",
    "#### Étape 1 : Assignation des points au cluster le plus proche\n",
    "Chaque point $ x_i $ est affecté au cluster $ k $ dont le centroïde $ \\mu_k $ est le plus proche. Ceci peut être formulé par la règle de minimisation suivante :\n",
    "$$\n",
    "c_i = \\arg\\min_k \\| x_i - \\mu_k \\|^2\n",
    "$$\n",
    "Cela signifie que chaque point $ x_i $ est assigné au cluster dont le centroïde minimise la distance au point $ x_i $.\n",
    "\n",
    "#### Étape 2 : Mise à jour des centroïdes\n",
    "Une fois que tous les points ont été assignés à des clusters, les centroïdes $ \\mu_k $ sont mis à jour en calculant la moyenne des points qui leur sont assignés :\n",
    "$$\n",
    "\\mu_k = \\frac{1}{|C_k|} \\sum_{x_i \\in C_k} x_i\n",
    "$$\n",
    "Où $ C_k $ est l'ensemble des points dans le cluster $ k $, et $ |C_k| $ est le nombre de points dans ce cluster.\n",
    "\n",
    "### 3. Convergence de l'algorithme\n",
    "L'algorithme K-means converge lorsque les centroïdes ne changent plus, c'est-à-dire qu'il n'y a plus de modification dans l'assignation des points aux clusters. L'algorithme garantit que la fonction de coût diminue à chaque itération, mais il peut parfois se retrouver dans des minima locaux\n",
    "\n",
    "### 4. Métriques de performance\n",
    "Une mesure souvent utilisée pour évaluer la qualité du clustering est la somme des carrés intra-cluster :\n",
    "\n",
    "$$\n",
    "SSW = \\sum_{k=1}^{K} \\sum_{x_i \\in C_k} \\| x_i - \\mu_k \\|^2\n",
    "$$\n",
    "\n",
    "L'idée est que plus la distance entre les points d'un cluster et son centroïde est faible, plus la qualité du clustering est élevée."
   ]
  },
  {
   "cell_type": "code",
   "execution_count": null,
   "metadata": {},
   "outputs": [],
   "source": [
    "#Utilise la sortie du modèle de régression logistique pour identifier les transactions qui ont été classées comme suspectes, c'est-à-dire celles où y_pred_log_reg == 1.\n",
    "suspect_indices = np.where(y_pred_log_reg == 1)[0] \n",
    "X_suspect = X_test.iloc[suspect_indices]  "
   ]
  },
  {
   "cell_type": "code",
   "execution_count": null,
   "metadata": {},
   "outputs": [],
   "source": [
    "#l'algorithme K-means est appliqué sur les transactions suspectes (X_suspect)\n",
    "#Le modèle essaie de diviser les transactions en 2 clusters fraudes potentielles et non-fraudes).\n",
    "kmeans = KMeans(n_clusters=2, random_state=42)\n",
    "#Le fit_predict permet à l'algorithme de trouver les deux clusters et d'assigner chaque transaction suspecte à l'un des clusters\n",
    "#Le tableau clusters contient les labels de chaque transaction (0 ou 1 selon le cluster auquel elle appartient)\n",
    "clusters = kmeans.fit_predict(X_suspect)"
   ]
  },
  {
   "cell_type": "code",
   "execution_count": null,
   "metadata": {},
   "outputs": [],
   "source": [
    "#Compare le nombre de vraies fraudes (y_test == 1) dans chaque cluster pour identifier le cluster contenant le plus grand nombre de fraudes\n",
    "#Si le cluster 1 contient plus de fraudes que le cluster 0, alors fraud_cluster = 1. Sinon, c'est le cluster 0 qui est considéré comme celui des fraudes\n",
    "fraud_indices = suspect_indices[clusters == fraud_cluster]"
   ]
  },
  {
   "cell_type": "code",
   "execution_count": null,
   "metadata": {},
   "outputs": [
    {
     "name": "stdout",
     "output_type": "stream",
     "text": [
      "\n",
      "Nombre de transactions suspectes détectées au niveau inférieur : 30\n"
     ]
    }
   ],
   "source": [
    "# Résultats du niveau inférieur\n",
    "print(\"\\nNombre de transactions suspectes détectées au niveau inférieur :\", len(fraud_indices))"
   ]
  },
  {
   "cell_type": "code",
   "execution_count": null,
   "metadata": {},
   "outputs": [],
   "source": [
    "homogeneity = homogeneity_score(y_test.iloc[suspect_indices], clusters)\n",
    "completeness = completeness_score(y_test.iloc[suspect_indices], clusters)\n",
    "v_measure = v_measure_score(y_test.iloc[suspect_indices], clusters)\n",
    "\n",
    "print(f\"Homogeneity Score: {homogeneity:.3f}\")\n",
    "print(f\"Completeness Score: {completeness:.3f}\")\n",
    "print(f\"V-Measure Score: {v_measure:.3f}\")\n"
   ]
  },
  {
   "cell_type": "markdown",
   "metadata": {},
   "source": [
    "conf_matrix = confusion_matrix(y_test.iloc[suspect_indices], clusters)\n",
    "conf_matrix_df = pd.DataFrame(conf_matrix, columns=['Cluster 0', 'Cluster 1'], index=['Classe 0', 'Classe 1'])\n",
    "print(\"\\nMatrice de confusion :\\n\")\n",
    "print(tabulate(conf_matrix_df, headers=\"keys\", tablefmt=\"fancy_grid\"))\n",
    "\n",
    "plt.figure(figsize=(6, 5))\n",
    "sns.heatmap(conf_matrix, annot=True, fmt=\"d\", cmap=\"Blues\", xticklabels=['Cluster 0', 'Cluster 1'], yticklabels=['Classe 0', 'Classe 1'], cbar=False)\n",
    "plt.xlabel('Prédictions des clusters')\n",
    "plt.ylabel('Véritables classes')\n",
    "plt.title('Matrice de confusion')\n",
    "plt.show()\n"
   ]
  },
  {
   "cell_type": "code",
   "execution_count": null,
   "metadata": {},
   "outputs": [
    {
     "data": {
      "image/png": "[encoded data removed]",
      "text/plain": [
       "<Figure size 640x480 with 1 Axes>"
      ]
     },
     "metadata": {},
     "output_type": "display_data"
    }
   ],
   "source": [
    "# Visualisation des clusters\n",
    "plt.scatter(X_suspect.iloc[:, 0], X_suspect.iloc[:, 1], c=clusters, cmap='viridis', marker='o')\n",
    "plt.title('Clusters de transactions suspectes')\n",
    "plt.xlabel('V1')\n",
    "plt.ylabel('V2')\n",
    "plt.show()"
   ]
  },
  {
   "cell_type": "code",
   "execution_count": null,
   "metadata": {},
   "outputs": [
    {
     "name": "stdout",
     "output_type": "stream",
     "text": [
      "Résumé des clusters :\n",
      "               V1        V2        V3        V4        V5        V6        V7  \\\n",
      "Cluster                                                                         \n",
      "0       -0.597411  2.706761 -4.583068  4.203522  0.176659 -1.852736 -1.952580   \n",
      "1       -1.913733  4.093060 -8.383699  4.796815 -4.416481 -3.639242 -8.604351   \n",
      "\n",
      "               V8        V9        V10  ...       V20       V21       V22  \\\n",
      "Cluster                                 ...                                 \n",
      "0        0.722349 -2.107344  -4.057891  ...  0.358572  0.488613  0.038423   \n",
      "1        1.835146 -3.648346 -12.450019  ...  1.512608  1.623704 -0.354571   \n",
      "\n",
      "              V23       V24       V25       V26       V27       V28    Amount  \n",
      "Cluster                                                                        \n",
      "0       -0.120544 -0.352995 -0.069781  0.160953  0.408836  0.164253 -0.248266  \n",
      "1       -0.328897  0.140393  1.271590 -0.362322  2.132150  1.040671 -0.349711  \n",
      "\n",
      "[2 rows x 29 columns]\n"
     ]
    },
    {
     "name": "stderr",
     "output_type": "stream",
     "text": [
      "C:\\Users\\l\\AppData\\Local\\Temp\\ipykernel_23072\\956592193.py:2: SettingWithCopyWarning: \n",
      "A value is trying to be set on a copy of a slice from a DataFrame.\n",
      "Try using .loc[row_indexer,col_indexer] = value instead\n",
      "\n",
      "See the caveats in the documentation: https://pandas.pydata.org/pandas-docs/stable/user_guide/indexing.html#returning-a-view-versus-a-copy\n",
      "  X_suspect['Cluster'] = clusters\n"
     ]
    }
   ],
   "source": [
    "# Analyse des clusters\n",
    "X_suspect = X_test.iloc[suspect_indices].copy()\n",
    "X_suspect.loc[:, 'Cluster'] = clusters\n",
    "cluster_summary = X_suspect.groupby('Cluster').mean()\n",
    "print(\"\\nRésumé des clusters :\\n\")\n",
    "print(tabulate(cluster_summary, headers='keys', tablefmt='fancy_grid'))\n"
   ]
  }
 ],
 "metadata": {
  "kernelspec": {
   "display_name": "Python 3",
   "language": "python",
   "name": "python3"
  },
  "language_info": {
   "codemirror_mode": {
    "name": "ipython",
    "version": 3
   },
   "file_extension": ".py",
   "mimetype": "text/x-python",
   "name": "python",
   "nbconvert_exporter": "python",
   "pygments_lexer": "ipython3",
   "version": "3.11.9"
  }
 },
 "nbformat": 4,
 "nbformat_minor": 2
}
